{
 "cells": [
  {
   "cell_type": "markdown",
   "id": "3a0be988-b934-46ad-b3ee-68d11ecfe975",
   "metadata": {},
   "source": [
    "# Getting data together\n"
   ]
  },
  {
   "cell_type": "code",
   "execution_count": 12,
   "id": "550fd1b7-54c0-4d91-b827-fc765cedc0a1",
   "metadata": {},
   "outputs": [],
   "source": [
    "# Importing dependencies \n",
    "import pandas as pd\n",
    "import requests\n",
    "import json\n",
    "import time\n",
    "from pprint import pprint\n",
    "import numpy as np\n"
   ]
  },
  {
   "cell_type": "code",
   "execution_count": 13,
   "id": "19107cc7-d656-4356-8c35-c8fc2b34943d",
   "metadata": {},
   "outputs": [],
   "source": [
    "\n",
    "url = \"https://data.cdc.gov/resource/xkb8-kh2a.json?$query=SELECT%0A%20%20%60state%60%2C%0A%20%20%60year%60%2C%0A%20%20%60month%60%2C%0A%20%20%60period%60%2C%0A%20%20%60indicator%60%2C%0A%20%20%60data_value%60%2C%0A%20%20%60percent_complete%60%2C%0A%20%20%60percent_pending_investigation%60%2C%0A%20%20%60state_name%60%2C%0A%20%20%60footnote%60%2C%0A%20%20%60footnote_symbol%60%2C%0A%20%20%60predicted_value%60%0AWHERE%0A%20%20(%60indicator%60%20%3D%20%22Number%20of%20Drug%20Overdose%20Deaths%22)%0A%20%20AND%20((%60year%60%20IN%20(2021%2C%202022%2C%202023))%0A%20%20%20%20%20%20%20%20%20AND%20caseless_one_of(%60month%60%2C%20%22December%22))\"\n",
    "drug_overdoses_data = []"
   ]
  },
  {
   "cell_type": "code",
   "execution_count": 14,
   "id": "2bd43c85-76ab-4889-8cce-b5b4bfa37800",
   "metadata": {},
   "outputs": [],
   "source": [
    "#looping through all the years in our list to fetch the corresponding data\n",
    "\n",
    "response = requests.get(url)\n",
    "response_json = response.json()\n",
    "\n",
    "for x in response_json:\n",
    "    info = {}\n",
    "    info[\"year\"] = x[\"year\"]\n",
    "    info[\"month\"] = x[\"month\"]\n",
    "    # info[\"st_abbrev\"] = x[\"st_abbrev\"]\n",
    "    info[\"state_name\"] = x[\"state_name\"]\n",
    "    info[\"data_value\"] = np.NaN\n",
    "    if \"data_value\" in x :\n",
    "        info[\"data_value\"] = x[\"data_value\"]\n",
    "    drug_overdoses_data.append(info)\n",
    "\n",
    "\n",
    "time.sleep(1)\n"
   ]
  },
  {
   "cell_type": "code",
   "execution_count": 15,
   "id": "2eae5d8b-0ff1-4322-8c74-5672f0e6c6d6",
   "metadata": {},
   "outputs": [],
   "source": [
    "overdoses_df = pd.DataFrame(drug_overdoses_data)\n",
    "\n",
    "overdoses_df.head()\n",
    "\n",
    "# Export the City_Data into a csv\n",
    "overdoses_df.to_csv(\"overdoses_df.csv\")\n"
   ]
  },
  {
   "cell_type": "code",
   "execution_count": null,
   "id": "6fb2171d",
   "metadata": {},
   "outputs": [],
   "source": []
  }
 ],
 "metadata": {
  "kernelspec": {
   "display_name": "dev",
   "language": "python",
   "name": "python3"
  },
  "language_info": {
   "codemirror_mode": {
    "name": "ipython",
    "version": 3
   },
   "file_extension": ".py",
   "mimetype": "text/x-python",
   "name": "python",
   "nbconvert_exporter": "python",
   "pygments_lexer": "ipython3",
   "version": "3.10.14"
  }
 },
 "nbformat": 4,
 "nbformat_minor": 5
}
