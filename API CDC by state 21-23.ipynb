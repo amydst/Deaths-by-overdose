{
 "cells": [
  {
   "cell_type": "markdown",
   "id": "3a0be988-b934-46ad-b3ee-68d11ecfe975",
   "metadata": {},
   "source": [
    "# Getting data together\n"
   ]
  },
  {
   "cell_type": "code",
   "execution_count": 14,
   "id": "550fd1b7-54c0-4d91-b827-fc765cedc0a1",
   "metadata": {},
   "outputs": [],
   "source": [
    "# Importing dependencies \n",
    "import pandas as pd\n",
    "import requests\n",
    "import json\n",
    "import time\n",
    "import numpy as np\n"
   ]
  },
  {
   "cell_type": "code",
   "execution_count": 2,
   "id": "19107cc7-d656-4356-8c35-c8fc2b34943d",
   "metadata": {},
   "outputs": [],
   "source": [
    "# URL for our query, built with the filter/export tool in the CDC website, super helpful.\n",
    "\n",
    "url = \"https://data.cdc.gov/resource/xkb8-kh2a.json?$query=SELECT%0A%20%20%60state%60%2C%0A%20%20%60year%60%2C%0A%20%20%60month%60%2C%0A%20%20%60period%60%2C%0A%20%20%60indicator%60%2C%0A%20%20%60data_value%60%2C%0A%20%20%60percent_complete%60%2C%0A%20%20%60percent_pending_investigation%60%2C%0A%20%20%60state_name%60%2C%0A%20%20%60footnote%60%2C%0A%20%20%60footnote_symbol%60%2C%0A%20%20%60predicted_value%60%0AWHERE%0A%20%20(%60indicator%60%20%3D%20%22Number%20of%20Drug%20Overdose%20Deaths%22)%0A%20%20AND%20((%60year%60%20IN%20(2021%2C%202022%2C%202023))%0A%20%20%20%20%20%20%20%20%20AND%20caseless_one_of(%60month%60%2C%20%22December%22))\"\n",
    "drug_overdoses_data = []"
   ]
  },
  {
   "cell_type": "code",
   "execution_count": 3,
   "id": "2bd43c85-76ab-4889-8cce-b5b4bfa37800",
   "metadata": {},
   "outputs": [],
   "source": [
    "#looping through all the years in our list to fetch the corresponding data\n",
    "\n",
    "response = requests.get(url)\n",
    "response_json = response.json()\n",
    "\n",
    "for x in response_json:\n",
    "    info = {}\n",
    "    info[\"Year\"] = x[\"year\"]\n",
    "    info[\"State name\"] = x[\"state_name\"]\n",
    "    info[\"Deaths by overdose\"] = np.NaN\n",
    "    if \"data_value\" in x :\n",
    "        info[\"Deaths by overdose\"] = x[\"data_value\"]\n",
    "    drug_overdoses_data.append(info)\n",
    "\n",
    "\n",
    "time.sleep(1)\n"
   ]
  },
  {
   "cell_type": "code",
   "execution_count": 4,
   "id": "2eae5d8b-0ff1-4322-8c74-5672f0e6c6d6",
   "metadata": {},
   "outputs": [
    {
     "data": {
      "text/html": [
       "<div>\n",
       "<style scoped>\n",
       "    .dataframe tbody tr th:only-of-type {\n",
       "        vertical-align: middle;\n",
       "    }\n",
       "\n",
       "    .dataframe tbody tr th {\n",
       "        vertical-align: top;\n",
       "    }\n",
       "\n",
       "    .dataframe thead th {\n",
       "        text-align: right;\n",
       "    }\n",
       "</style>\n",
       "<table border=\"1\" class=\"dataframe\">\n",
       "  <thead>\n",
       "    <tr style=\"text-align: right;\">\n",
       "      <th></th>\n",
       "      <th>Year</th>\n",
       "      <th>State name</th>\n",
       "      <th>Deaths by overdose</th>\n",
       "    </tr>\n",
       "  </thead>\n",
       "  <tbody>\n",
       "    <tr>\n",
       "      <th>0</th>\n",
       "      <td>2021</td>\n",
       "      <td>Alaska</td>\n",
       "      <td>255</td>\n",
       "    </tr>\n",
       "    <tr>\n",
       "      <th>1</th>\n",
       "      <td>2022</td>\n",
       "      <td>Alaska</td>\n",
       "      <td>247</td>\n",
       "    </tr>\n",
       "    <tr>\n",
       "      <th>2</th>\n",
       "      <td>2023</td>\n",
       "      <td>Alaska</td>\n",
       "      <td>357</td>\n",
       "    </tr>\n",
       "    <tr>\n",
       "      <th>3</th>\n",
       "      <td>2021</td>\n",
       "      <td>Alabama</td>\n",
       "      <td>1333</td>\n",
       "    </tr>\n",
       "    <tr>\n",
       "      <th>4</th>\n",
       "      <td>2022</td>\n",
       "      <td>Alabama</td>\n",
       "      <td>1452</td>\n",
       "    </tr>\n",
       "  </tbody>\n",
       "</table>\n",
       "</div>"
      ],
      "text/plain": [
       "   Year State name Deaths by overdose\n",
       "0  2021     Alaska                255\n",
       "1  2022     Alaska                247\n",
       "2  2023     Alaska                357\n",
       "3  2021    Alabama               1333\n",
       "4  2022    Alabama               1452"
      ]
     },
     "execution_count": 4,
     "metadata": {},
     "output_type": "execute_result"
    }
   ],
   "source": [
    "#Creates the data frame from the drug_overdose_data list\n",
    "overdoses_df = pd.DataFrame(drug_overdoses_data)\n",
    "\n",
    "overdoses_df.head()\n"
   ]
  },
  {
   "cell_type": "code",
   "execution_count": 5,
   "id": "8c2e96f3",
   "metadata": {},
   "outputs": [],
   "source": [
    "# Export the overdoses_df into a csv\n",
    "overdoses_df.to_csv(\"overdoses_df.csv\")\n"
   ]
  },
  {
   "cell_type": "code",
   "execution_count": 13,
   "id": "d8b48832",
   "metadata": {},
   "outputs": [
    {
     "data": {
      "text/html": [
       "<div>\n",
       "<style scoped>\n",
       "    .dataframe tbody tr th:only-of-type {\n",
       "        vertical-align: middle;\n",
       "    }\n",
       "\n",
       "    .dataframe tbody tr th {\n",
       "        vertical-align: top;\n",
       "    }\n",
       "\n",
       "    .dataframe thead th {\n",
       "        text-align: right;\n",
       "    }\n",
       "</style>\n",
       "<table border=\"1\" class=\"dataframe\">\n",
       "  <thead>\n",
       "    <tr style=\"text-align: right;\">\n",
       "      <th></th>\n",
       "      <th>Year</th>\n",
       "      <th>State name</th>\n",
       "      <th>Deaths by overdose</th>\n",
       "    </tr>\n",
       "  </thead>\n",
       "  <tbody>\n",
       "    <tr>\n",
       "      <th>0</th>\n",
       "      <td>2021</td>\n",
       "      <td>Alaska</td>\n",
       "      <td>255</td>\n",
       "    </tr>\n",
       "    <tr>\n",
       "      <th>1</th>\n",
       "      <td>2022</td>\n",
       "      <td>Alaska</td>\n",
       "      <td>247</td>\n",
       "    </tr>\n",
       "    <tr>\n",
       "      <th>2</th>\n",
       "      <td>2023</td>\n",
       "      <td>Alaska</td>\n",
       "      <td>357</td>\n",
       "    </tr>\n",
       "    <tr>\n",
       "      <th>3</th>\n",
       "      <td>2021</td>\n",
       "      <td>Alabama</td>\n",
       "      <td>1333</td>\n",
       "    </tr>\n",
       "    <tr>\n",
       "      <th>4</th>\n",
       "      <td>2022</td>\n",
       "      <td>Alabama</td>\n",
       "      <td>1452</td>\n",
       "    </tr>\n",
       "  </tbody>\n",
       "</table>\n",
       "</div>"
      ],
      "text/plain": [
       "   Year State name  Deaths by overdose\n",
       "0  2021     Alaska                 255\n",
       "1  2022     Alaska                 247\n",
       "2  2023     Alaska                 357\n",
       "3  2021    Alabama                1333\n",
       "4  2022    Alabama                1452"
      ]
     },
     "execution_count": 13,
     "metadata": {},
     "output_type": "execute_result"
    }
   ],
   "source": [
    "# Read saved data\n",
    "overdoses_df = pd.read_csv(\"overdoses_df.csv\",index_col=0)\n",
    "\n",
    "# Display sample data to check it looks ok\n",
    "overdoses_df.head()"
   ]
  },
  {
   "cell_type": "code",
   "execution_count": 9,
   "id": "67e9ad2c",
   "metadata": {},
   "outputs": [
    {
     "data": {
      "text/plain": [
       "Year                  156\n",
       "State name            156\n",
       "Deaths by overdose    156\n",
       "dtype: int64"
      ]
     },
     "execution_count": 9,
     "metadata": {},
     "output_type": "execute_result"
    }
   ],
   "source": [
    "# The CDC includes New Yor City numbers separately from New York State\n",
    "\n",
    "overdoses_df = overdoses_df.loc[overdoses_df[\"State name\"] != \"New York City\",:]\n",
    "\n",
    "overdoses_df.count()"
   ]
  },
  {
   "cell_type": "code",
   "execution_count": 12,
   "id": "76db4f8c",
   "metadata": {},
   "outputs": [
    {
     "data": {
      "text/html": [
       "<div>\n",
       "<style scoped>\n",
       "    .dataframe tbody tr th:only-of-type {\n",
       "        vertical-align: middle;\n",
       "    }\n",
       "\n",
       "    .dataframe tbody tr th {\n",
       "        vertical-align: top;\n",
       "    }\n",
       "\n",
       "    .dataframe thead th {\n",
       "        text-align: right;\n",
       "    }\n",
       "</style>\n",
       "<table border=\"1\" class=\"dataframe\">\n",
       "  <thead>\n",
       "    <tr style=\"text-align: right;\">\n",
       "      <th></th>\n",
       "      <th>State Name</th>\n",
       "      <th>Average Deaths by OD</th>\n",
       "    </tr>\n",
       "  </thead>\n",
       "  <tbody>\n",
       "    <tr>\n",
       "      <th>0</th>\n",
       "      <td>Alabama</td>\n",
       "      <td>1461.000000</td>\n",
       "    </tr>\n",
       "    <tr>\n",
       "      <th>1</th>\n",
       "      <td>Alaska</td>\n",
       "      <td>286.333333</td>\n",
       "    </tr>\n",
       "    <tr>\n",
       "      <th>2</th>\n",
       "      <td>Arizona</td>\n",
       "      <td>2745.666667</td>\n",
       "    </tr>\n",
       "    <tr>\n",
       "      <th>3</th>\n",
       "      <td>Arkansas</td>\n",
       "      <td>578.333333</td>\n",
       "    </tr>\n",
       "    <tr>\n",
       "      <th>4</th>\n",
       "      <td>California</td>\n",
       "      <td>11842.000000</td>\n",
       "    </tr>\n",
       "  </tbody>\n",
       "</table>\n",
       "</div>"
      ],
      "text/plain": [
       "   State Name  Average Deaths by OD\n",
       "0     Alabama           1461.000000\n",
       "1      Alaska            286.333333\n",
       "2     Arizona           2745.666667\n",
       "3    Arkansas            578.333333\n",
       "4  California          11842.000000"
      ]
     },
     "execution_count": 12,
     "metadata": {},
     "output_type": "execute_result"
    }
   ],
   "source": [
    "#Groupong by state and calculating the yearly average deaths\n",
    "average_deaths = overdoses_df.groupby(\"State name\")[\"Deaths by overdose\"].mean()\n",
    "\n",
    "average_deaths_df = average_deaths.reset_index()\n",
    "average_deaths_df.columns= [\"State Name\", \"Average Deaths by OD\"]\n",
    "\n",
    "average_deaths_df.head()\n",
    "\n"
   ]
  },
  {
   "cell_type": "code",
   "execution_count": null,
   "id": "37543d2f",
   "metadata": {},
   "outputs": [],
   "source": [
    "# Export the Yearly OD death average by state into a csv\n",
    "average_deaths_df.to_csv(\"average_deaths_df.csv\")\n",
    "\n"
   ]
  }
 ],
 "metadata": {
  "kernelspec": {
   "display_name": "dev",
   "language": "python",
   "name": "python3"
  },
  "language_info": {
   "codemirror_mode": {
    "name": "ipython",
    "version": 3
   },
   "file_extension": ".py",
   "mimetype": "text/x-python",
   "name": "python",
   "nbconvert_exporter": "python",
   "pygments_lexer": "ipython3",
   "version": "3.10.14"
  }
 },
 "nbformat": 4,
 "nbformat_minor": 5
}
