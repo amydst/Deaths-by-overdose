{
 "cells": [
  {
   "cell_type": "markdown",
   "id": "3a0be988-b934-46ad-b3ee-68d11ecfe975",
   "metadata": {},
   "source": [
    "# Getting data together\n"
   ]
  },
  {
   "cell_type": "code",
   "execution_count": 1,
   "id": "550fd1b7-54c0-4d91-b827-fc765cedc0a1",
   "metadata": {},
   "outputs": [],
   "source": [
    "# Importing dependencies \n",
    "import pandas as pd\n",
    "import requests\n",
    "import json\n",
    "import time\n",
    "\n",
    "# Import the API keys\n",
    "#from api_keys import weather_api_key"
   ]
  },
  {
   "cell_type": "code",
   "execution_count": 2,
   "id": "19107cc7-d656-4356-8c35-c8fc2b34943d",
   "metadata": {},
   "outputs": [],
   "source": [
    "base_url = \"https://data.cdc.gov/resource/gb4e-yj24.json?\"\n",
    "\n",
    "years = [2021,2022,2023]\n",
    "\n",
    "drug_overdoses_data = {}"
   ]
  },
  {
   "cell_type": "code",
   "execution_count": 11,
   "id": "2bd43c85-76ab-4889-8cce-b5b4bfa37800",
   "metadata": {},
   "outputs": [
    {
     "name": "stdout",
     "output_type": "stream",
     "text": [
      "Getting the response for year 2021\n",
      "Could not find it\n",
      "Getting the response for year 2022\n",
      "Could not find it\n",
      "Getting the response for year 2023\n",
      "Could not find it\n"
     ]
    },
    {
     "data": {
      "text/plain": [
       "{}"
      ]
     },
     "execution_count": 11,
     "metadata": {},
     "output_type": "execute_result"
    }
   ],
   "source": [
    "#looping through all the years in our list to fetch the corresponding data\n",
    "\n",
    "\n",
    "for year in range(len(years)):\n",
    "    print(f'Getting the response for year {years[year]}')\n",
    "    year_url = f'{base_url}year={years[year]}'\n",
    "    \n",
    "    Year = \"\"\n",
    "    State = \"\"\n",
    "    Drug_overdoses = 0\n",
    "\n",
    "    #I'm trying to get the information into the corresponding columns but it's not working, I think it's because I'm not referencing them correctly, is it \n",
    "    try:\n",
    "        response = requests.get(year_url).json()\n",
    "        Year = response[0][\"year\"]\n",
    "        State = response[0][\"state_name\"]\n",
    "        Drug_overdoses = response[0][\"provisional_drug_overdose\"]\n",
    "\n",
    "        drug_overdoses_data.append({\"Year\": Year,\n",
    "                                    \"State\": State,\n",
    "                                    \"Deads by drug overdoses\": Drug_overdoses\n",
    "                                    })\n",
    "\n",
    "    except:\n",
    "        print(f'Could not find it')\n",
    "        pass\n",
    "    \n",
    "    time.sleep(1)\n",
    "\n",
    "# response\n",
    "\n",
    "drug_overdoses_data"
   ]
  },
  {
   "cell_type": "code",
   "execution_count": 9,
   "id": "2eae5d8b-0ff1-4322-8c74-5672f0e6c6d6",
   "metadata": {},
   "outputs": [
    {
     "data": {
      "text/html": [
       "<div>\n",
       "<style scoped>\n",
       "    .dataframe tbody tr th:only-of-type {\n",
       "        vertical-align: middle;\n",
       "    }\n",
       "\n",
       "    .dataframe tbody tr th {\n",
       "        vertical-align: top;\n",
       "    }\n",
       "\n",
       "    .dataframe thead th {\n",
       "        text-align: right;\n",
       "    }\n",
       "</style>\n",
       "<table border=\"1\" class=\"dataframe\">\n",
       "  <thead>\n",
       "    <tr style=\"text-align: right;\">\n",
       "      <th></th>\n",
       "    </tr>\n",
       "  </thead>\n",
       "  <tbody>\n",
       "  </tbody>\n",
       "</table>\n",
       "</div>"
      ],
      "text/plain": [
       "Empty DataFrame\n",
       "Columns: []\n",
       "Index: []"
      ]
     },
     "execution_count": 9,
     "metadata": {},
     "output_type": "execute_result"
    }
   ],
   "source": [
    "overdoses_df = pd.DataFrame(drug_overdoses_data)\n",
    "\n",
    "overdoses_df.head()\n"
   ]
  }
 ],
 "metadata": {
  "kernelspec": {
   "display_name": "Python 3 (ipykernel)",
   "language": "python",
   "name": "python3"
  },
  "language_info": {
   "codemirror_mode": {
    "name": "ipython",
    "version": 3
   },
   "file_extension": ".py",
   "mimetype": "text/x-python",
   "name": "python",
   "nbconvert_exporter": "python",
   "pygments_lexer": "ipython3",
   "version": "3.10.14"
  }
 },
 "nbformat": 4,
 "nbformat_minor": 5
}
