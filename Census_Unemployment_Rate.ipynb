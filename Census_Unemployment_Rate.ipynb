{
 "cells": [
  {
   "cell_type": "code",
   "execution_count": 1,
   "id": "64e61413-bb77-455c-9725-a3f3b37ac763",
   "metadata": {},
   "outputs": [
    {
     "name": "stdout",
     "output_type": "stream",
     "text": [
      "Requirement already satisfied: requests in c:\\users\\hester\\anaconda3\\lib\\site-packages (2.32.2)\n",
      "Requirement already satisfied: pandas in c:\\users\\hester\\anaconda3\\lib\\site-packages (2.2.2)\n",
      "Requirement already satisfied: charset-normalizer<4,>=2 in c:\\users\\hester\\anaconda3\\lib\\site-packages (from requests) (2.0.4)\n",
      "Requirement already satisfied: idna<4,>=2.5 in c:\\users\\hester\\anaconda3\\lib\\site-packages (from requests) (3.7)\n",
      "Requirement already satisfied: urllib3<3,>=1.21.1 in c:\\users\\hester\\anaconda3\\lib\\site-packages (from requests) (2.2.2)\n",
      "Requirement already satisfied: certifi>=2017.4.17 in c:\\users\\hester\\anaconda3\\lib\\site-packages (from requests) (2024.7.4)\n",
      "Requirement already satisfied: numpy>=1.26.0 in c:\\users\\hester\\anaconda3\\lib\\site-packages (from pandas) (1.26.4)\n",
      "Requirement already satisfied: python-dateutil>=2.8.2 in c:\\users\\hester\\anaconda3\\lib\\site-packages (from pandas) (2.9.0.post0)\n",
      "Requirement already satisfied: pytz>=2020.1 in c:\\users\\hester\\anaconda3\\lib\\site-packages (from pandas) (2024.1)\n",
      "Requirement already satisfied: tzdata>=2022.7 in c:\\users\\hester\\anaconda3\\lib\\site-packages (from pandas) (2023.3)\n",
      "Requirement already satisfied: six>=1.5 in c:\\users\\hester\\anaconda3\\lib\\site-packages (from python-dateutil>=2.8.2->pandas) (1.16.0)\n"
     ]
    }
   ],
   "source": [
    "    !pip install requests pandas\n"
   ]
  },
  {
   "cell_type": "code",
   "execution_count": 6,
   "id": "b580845a-aded-44e0-a274-39d7134dbaea",
   "metadata": {},
   "outputs": [],
   "source": [
    "import requests\n",
    "import pandas as pd\n",
    "\n",
    "api_key = \"5de77c31d99f9e83d1f01f4def19932bcd0ef44d\"\n",
    "base_url = \"https://api.census.gov/data/{year}/acs/acs1\"\n",
    "years = [2021, 2022, 2023]\n",
    "unemployment_data = []\n"
   ]
  },
  {
   "cell_type": "code",
   "execution_count": 7,
   "id": "aacf34b2-eb5e-4c8f-8d3a-3592488a84ab",
   "metadata": {},
   "outputs": [],
   "source": [
    "for year in years:\n",
    "    url = base_url.format(year=year)\n",
    "    params = {\n",
    "        \"get\": \"NAME,B23025_001E,B23025_005E\",  # State name, total labor force, and number of unemployed\n",
    "        \"for\": \"state:*\",  # Get data for all states\n",
    "        \"key\": api_key\n",
    "    }\n",
    "    \n",
    "    response = requests.get(url, params=params)\n",
    "    if response.status_code == 200:\n",
    "        data = response.json()\n",
    "        unemployment_data.extend(data)\n",
    "    else:\n",
    "        print(f\"Failed to retrieve data for {year}\")\n",
    "    \n"
   ]
  },
  {
   "cell_type": "code",
   "execution_count": 8,
   "id": "c52814b8-e738-4052-85fc-39463a16874b",
   "metadata": {},
   "outputs": [
    {
     "data": {
      "text/html": [
       "<div>\n",
       "<style scoped>\n",
       "    .dataframe tbody tr th:only-of-type {\n",
       "        vertical-align: middle;\n",
       "    }\n",
       "\n",
       "    .dataframe tbody tr th {\n",
       "        vertical-align: top;\n",
       "    }\n",
       "\n",
       "    .dataframe thead th {\n",
       "        text-align: right;\n",
       "    }\n",
       "</style>\n",
       "<table border=\"1\" class=\"dataframe\">\n",
       "  <thead>\n",
       "    <tr style=\"text-align: right;\">\n",
       "      <th></th>\n",
       "      <th>NAME</th>\n",
       "      <th>Total Labor Force</th>\n",
       "      <th>Number of Unemployed</th>\n",
       "      <th>state</th>\n",
       "      <th>Unemployment Rate</th>\n",
       "    </tr>\n",
       "  </thead>\n",
       "  <tbody>\n",
       "    <tr>\n",
       "      <th>0</th>\n",
       "      <td>Alabama</td>\n",
       "      <td>4046627.0</td>\n",
       "      <td>123808.0</td>\n",
       "      <td>01</td>\n",
       "      <td>3.059536</td>\n",
       "    </tr>\n",
       "    <tr>\n",
       "      <th>1</th>\n",
       "      <td>Puerto Rico</td>\n",
       "      <td>2794959.0</td>\n",
       "      <td>163354.0</td>\n",
       "      <td>72</td>\n",
       "      <td>5.844594</td>\n",
       "    </tr>\n",
       "    <tr>\n",
       "      <th>2</th>\n",
       "      <td>Arizona</td>\n",
       "      <td>5852913.0</td>\n",
       "      <td>203756.0</td>\n",
       "      <td>04</td>\n",
       "      <td>3.481275</td>\n",
       "    </tr>\n",
       "    <tr>\n",
       "      <th>3</th>\n",
       "      <td>Arkansas</td>\n",
       "      <td>2405035.0</td>\n",
       "      <td>77486.0</td>\n",
       "      <td>05</td>\n",
       "      <td>3.221824</td>\n",
       "    </tr>\n",
       "    <tr>\n",
       "      <th>4</th>\n",
       "      <td>California</td>\n",
       "      <td>31507237.0</td>\n",
       "      <td>1649320.0</td>\n",
       "      <td>06</td>\n",
       "      <td>5.234734</td>\n",
       "    </tr>\n",
       "  </tbody>\n",
       "</table>\n",
       "</div>"
      ],
      "text/plain": [
       "          NAME  Total Labor Force  Number of Unemployed state  \\\n",
       "0      Alabama          4046627.0              123808.0    01   \n",
       "1  Puerto Rico          2794959.0              163354.0    72   \n",
       "2      Arizona          5852913.0              203756.0    04   \n",
       "3     Arkansas          2405035.0               77486.0    05   \n",
       "4   California         31507237.0             1649320.0    06   \n",
       "\n",
       "   Unemployment Rate  \n",
       "0           3.059536  \n",
       "1           5.844594  \n",
       "2           3.481275  \n",
       "3           3.221824  \n",
       "4           5.234734  "
      ]
     },
     "execution_count": 8,
     "metadata": {},
     "output_type": "execute_result"
    }
   ],
   "source": [
    "# Convert the data to a DataFrame\n",
    "unemployment_df = pd.DataFrame(unemployment_data[1:], columns=unemployment_data[0])\n",
    "\n",
    "# Rename the columns \n",
    "unemployment_df.rename(columns={\n",
    "    \"B23025_001E\": \"Total Labor Force\",\n",
    "    \"B23025_005E\": \"Number of Unemployed\"\n",
    "}, inplace=True)\n",
    "\n",
    "# Convert Labor Force and Number of Unemployed columns to numeric if necessary\n",
    "unemployment_df[\"Total Labor Force\"] = pd.to_numeric(unemployment_df[\"Total Labor Force\"], errors=\"coerce\")\n",
    "unemployment_df[\"Number of Unemployed\"] = pd.to_numeric(unemployment_df[\"Number of Unemployed\"], errors=\"coerce\")\n",
    "\n",
    "# Calculate Unempl Rate\n",
    "unemployment_df[\"Unemployment Rate\"] = (unemployment_df[\"Number of Unemployed\"] / unemployment_df[\"Total Labor Force\"]) * 100\n",
    "\n",
    "\n",
    "unemployment_df.head()\n"
   ]
  },
  {
   "cell_type": "code",
   "execution_count": 9,
   "id": "84543d2f-566c-46b6-ba29-93486acbf0d5",
   "metadata": {},
   "outputs": [],
   "source": [
    "# Export to CSV\n",
    "unemployment_df.to_csv(\"unemployment_rate_by_state_2021_2023.csv\", index=False)\n",
    "\n"
   ]
  },
  {
   "cell_type": "code",
   "execution_count": null,
   "id": "16dd4993-c912-47f2-b6ae-120d867dfd49",
   "metadata": {},
   "outputs": [],
   "source": []
  }
 ],
 "metadata": {
  "kernelspec": {
   "display_name": "Python 3 (ipykernel)",
   "language": "python",
   "name": "python3"
  },
  "language_info": {
   "codemirror_mode": {
    "name": "ipython",
    "version": 3
   },
   "file_extension": ".py",
   "mimetype": "text/x-python",
   "name": "python",
   "nbconvert_exporter": "python",
   "pygments_lexer": "ipython3",
   "version": "3.12.4"
  }
 },
 "nbformat": 4,
 "nbformat_minor": 5
}
