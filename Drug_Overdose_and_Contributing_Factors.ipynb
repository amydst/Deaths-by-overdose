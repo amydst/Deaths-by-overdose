{
 "cells": [
  {
   "cell_type": "code",
   "execution_count": null,
   "metadata": {},
   "outputs": [],
   "source": [
    "# In this analysis, we will be examining deaths by drug overdose and various contributing factors. \n",
    "# Data examined includes information from the years 2021-2023 in the United States, for individuals 18 and older.\n",
    "# The various contributing factors analyzed are High School Graduation Rate, Median Household Income, and Unemployment Rate. \n",
    "# These values are averages from 2021-2023. "
   ]
  },
  {
   "cell_type": "code",
   "execution_count": null,
   "metadata": {},
   "outputs": [],
   "source": [
    "# Import modules\n",
    "from matplotlib import pyplot as plt\n",
    "from scipy.stats import linregress\n",
    "import numpy as np\n",
    "import hvplot.pandas\n",
    "import pandas as pd\n",
    "from pathlib import Path\n"
   ]
  },
  {
   "cell_type": "code",
   "execution_count": null,
   "metadata": {},
   "outputs": [],
   "source": [
    "# Read HS Grad Rate, Median Household Income, Unemployment Rate, and Drug Overdose Rates as CSV files into DataFrames\n",
    "# Note that these datasets have already been cleaned in separate Notebooks in our Repository. \n",
    "# Refer to these folders: **INSERT FOLDERS HERE** to view raw data and cleaning process."
   ]
  },
  {
   "cell_type": "code",
   "execution_count": null,
   "metadata": {},
   "outputs": [],
   "source": [
    "# Merge HS Grad Rate and Median Household Income DataFrames on \"State name\""
   ]
  },
  {
   "cell_type": "code",
   "execution_count": null,
   "metadata": {},
   "outputs": [],
   "source": [
    "# Merge HS Grad Rate and Median Household Income DataFrame with Unemployment Rate DataFrame on \"State name\""
   ]
  },
  {
   "cell_type": "code",
   "execution_count": null,
   "metadata": {},
   "outputs": [],
   "source": [
    "# Merge Unemployment, Grad Rate, and Income DataFrame with Drug Overdose Rates on \"State name\""
   ]
  },
  {
   "cell_type": "code",
   "execution_count": null,
   "metadata": {},
   "outputs": [],
   "source": [
    "# If needed, calculate any Rates by dividing by Total Population for given year\n",
    "\n",
    "\n",
    "# Create new column in DataFrame for the calculated rate\n",
    "\n",
    "\n",
    "# Average the rates for 2021-2021 and store in the new column"
   ]
  },
  {
   "cell_type": "code",
   "execution_count": null,
   "metadata": {},
   "outputs": [],
   "source": [
    "# Drop any rows with N/A values - Puerto Rico, District of Columbia may not be needed? "
   ]
  },
  {
   "cell_type": "code",
   "execution_count": null,
   "metadata": {},
   "outputs": [],
   "source": [
    "# Start Caluclations\n",
    "# Q1: How does education rates (high school graduation) affect overdose rates by county across different regional areas in the US?\n",
    "# graph: each state as a data point on a scatterplot comparing HS graduation rate to drug overdose rate, with a regression line) \n",
    "\n",
    "\n",
    "# Plot HS Grad Rates vs Drug Overdose Rates on Scatter Plot\n",
    "\n",
    "\n",
    "# Format"
   ]
  },
  {
   "cell_type": "code",
   "execution_count": null,
   "metadata": {},
   "outputs": [],
   "source": [
    "# Add Linear Regression Equation and Line to Plot, as well as r-squared value \n",
    "\n",
    "\n",
    "# Export graph as jpeg for use in presentation"
   ]
  },
  {
   "cell_type": "code",
   "execution_count": null,
   "metadata": {},
   "outputs": [],
   "source": [
    "# In Markdown below, discuss relationship between HS Grad Rates and Drug Overdose Rates"
   ]
  },
  {
   "cell_type": "markdown",
   "metadata": {},
   "source": [
    "Add Discussion here. "
   ]
  },
  {
   "cell_type": "code",
   "execution_count": null,
   "metadata": {},
   "outputs": [],
   "source": [
    "# Q2: Is there a link between socioeconomic status (household median income) and rate of overdoses? \n",
    "# graph: each state as a data point on a scatter plot comparing household mean income to drug overdose rate, with regression line\n",
    "\n",
    "\n",
    "# Plot Median Household Income vs Drug Overdose Rates on Scatter Plot\n",
    "\n",
    "\n",
    "# Format\n"
   ]
  },
  {
   "cell_type": "code",
   "execution_count": null,
   "metadata": {},
   "outputs": [],
   "source": [
    "# Add Linear Regression Equation and Line to Plot, as well as r-squared value \n",
    "\n",
    "\n",
    "# Export graph as jpeg for use in presentation"
   ]
  },
  {
   "cell_type": "code",
   "execution_count": null,
   "metadata": {},
   "outputs": [],
   "source": [
    "# In markdown below, discuss relationship between Median Household Income and Drug Overdose Rates"
   ]
  },
  {
   "cell_type": "markdown",
   "metadata": {},
   "source": [
    "Add Discussion here. "
   ]
  },
  {
   "cell_type": "code",
   "execution_count": null,
   "metadata": {},
   "outputs": [],
   "source": [
    "# Q3: Does unemployment rate affect rates of drug overdose by state? \n",
    "# graph: each state as a data point on a scatter plot comparing unemployment rate to drug overdose rate, with regression line\n",
    "\n",
    "\n",
    "# Plot Unemployment Rate vs Drug Overdose Rates on Scatter Plot\n",
    "\n",
    "\n",
    "# Format\n"
   ]
  },
  {
   "cell_type": "code",
   "execution_count": null,
   "metadata": {},
   "outputs": [],
   "source": [
    "# Add Linear Regression Equation and Line to Plot, as well as r-squared value \n",
    "\n",
    "\n",
    "# Export graph as jpeg for use in presentation"
   ]
  },
  {
   "cell_type": "code",
   "execution_count": null,
   "metadata": {},
   "outputs": [],
   "source": [
    "# In markdown below, discuss relationship between Unemployment Rate and Drug Overdose Rates"
   ]
  },
  {
   "cell_type": "markdown",
   "metadata": {},
   "source": [
    "Add Discussion here. "
   ]
  },
  {
   "cell_type": "code",
   "execution_count": null,
   "metadata": {},
   "outputs": [],
   "source": [
    "# Statistical Calculations: \n",
    "\n",
    "\n",
    "# Create a Boxplot of all States Average Overdose Rate. \n",
    "\n",
    "\n",
    "# Calculate Quartiles"
   ]
  },
  {
   "cell_type": "code",
   "execution_count": null,
   "metadata": {},
   "outputs": [],
   "source": [
    "# Use Quartiles calculates above along with contributing factor (income, unemployment, grad rate) found to have strongest\n",
    "# correlation to Overdose Rates to make 4 boxplots (side by side)\n",
    "\n",
    "\n",
    "# Perform ANOVA test on boxplots to determine if there is a significant difference between the 4 quartiles\n",
    "\n",
    "\n",
    "# Export graph as jpeg for use in presentation"
   ]
  },
  {
   "cell_type": "code",
   "execution_count": null,
   "metadata": {},
   "outputs": [],
   "source": [
    "# In markdown below, discuss ANOVA test and the quartiles created"
   ]
  },
  {
   "cell_type": "markdown",
   "metadata": {},
   "source": [
    "Add Discusssion here. "
   ]
  },
  {
   "cell_type": "code",
   "execution_count": null,
   "metadata": {},
   "outputs": [],
   "source": [
    "# For Presentation, create map of all 50 states, using Drug Overdose Rate for the \"size\"\n",
    "\n",
    "\n",
    "# Export graph as jpeg for use in presentation"
   ]
  },
  {
   "cell_type": "code",
   "execution_count": null,
   "metadata": {},
   "outputs": [],
   "source": [
    "# In markdown below, add summary of project and discuss and further observations from analysis. "
   ]
  }
 ],
 "metadata": {
  "language_info": {
   "name": "python"
  }
 },
 "nbformat": 4,
 "nbformat_minor": 2
}
